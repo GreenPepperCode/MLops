{
 "cells": [
  {
   "cell_type": "code",
   "execution_count": 1,
   "metadata": {},
   "outputs": [],
   "source": [
    "import pandas as pd\n",
    "from sklearn.model_selection import train_test_split\n",
    "from sklearn.linear_model import LinearRegression\n",
    "from sklearn.metrics import mean_squared_error\n",
    "import numpy as np"
   ]
  },
  {
   "cell_type": "code",
   "execution_count": 2,
   "metadata": {},
   "outputs": [],
   "source": [
    "# Chargement du dataset\n",
    "file_path = 'data/ds_salaries.csv'\n",
    "data = pd.read_csv(file_path)"
   ]
  },
  {
   "cell_type": "code",
   "execution_count": 3,
   "metadata": {},
   "outputs": [],
   "source": [
    "# Séparer environ 1000 enregistrements pour les mettre de côté pour MLOps\n",
    "train_data, holdout_data = train_test_split(data, test_size=1000, random_state=42)"
   ]
  },
  {
   "cell_type": "code",
   "execution_count": 4,
   "metadata": {},
   "outputs": [
    {
     "name": "stdout",
     "output_type": "stream",
     "text": [
      "work_year              int64\n",
      "experience_level      object\n",
      "employment_type       object\n",
      "job_title             object\n",
      "salary                 int64\n",
      "salary_currency       object\n",
      "salary_in_usd          int64\n",
      "employee_residence    object\n",
      "remote_ratio           int64\n",
      "company_location      object\n",
      "company_size          object\n",
      "dtype: object\n"
     ]
    }
   ],
   "source": [
    "print(train_data.dtypes)"
   ]
  },
  {
   "cell_type": "code",
   "execution_count": 5,
   "metadata": {},
   "outputs": [
    {
     "name": "stdout",
     "output_type": "stream",
     "text": [
      "work_year              int64\n",
      "experience_level      object\n",
      "employment_type       object\n",
      "job_title             object\n",
      "salary                 int64\n",
      "salary_currency       object\n",
      "salary_in_usd          int64\n",
      "employee_residence    object\n",
      "remote_ratio           int64\n",
      "company_location      object\n",
      "company_size          object\n",
      "dtype: object\n",
      "work_year             0\n",
      "experience_level      0\n",
      "employment_type       0\n",
      "job_title             0\n",
      "salary                0\n",
      "salary_currency       0\n",
      "salary_in_usd         0\n",
      "employee_residence    0\n",
      "remote_ratio          0\n",
      "company_location      0\n",
      "company_size          0\n",
      "dtype: int64\n"
     ]
    }
   ],
   "source": [
    "# Importation de pandas et numpy\n",
    "import pandas as pd\n",
    "import numpy as np\n",
    "\n",
    "# Pour les colonnes numériques, remplacer les valeurs manquantes par la moyenne de la colonne\n",
    "for col in ['work_year', 'salary', 'salary_in_usd', 'remote_ratio']:\n",
    "    if train_data[col].isnull().any():\n",
    "        train_data[col].fillna(train_data[col].mean(), inplace=True)\n",
    "\n",
    "# Pour les colonnes catégorielles, remplacer les valeurs manquantes par la valeur la plus fréquente (mode)\n",
    "for col in ['experience_level', 'employment_type', 'job_title', 'salary_currency', 'employee_residence', 'company_location', 'company_size']:\n",
    "    if train_data[col].isnull().any():\n",
    "        train_data[col].fillna(train_data[col].mode()[0], inplace=True)\n",
    "\n",
    "# Vérifier de nouveau les types de données pour confirmer que tout est correct\n",
    "print(train_data.dtypes)\n",
    "print(train_data.isnull().sum())  # Afficher le nombre de valeurs manquantes par colonne pour vérifier\n"
   ]
  },
  {
   "cell_type": "code",
   "execution_count": 7,
   "metadata": {},
   "outputs": [],
   "source": [
    "# Sélectionner uniquement les colonnes numériques pour le calcul de la moyenne\n",
    "numeric_cols = train_data.select_dtypes(include=['int64', 'float64'])\n",
    "\n",
    "# Calculer la moyenne pour les colonnes numériques\n",
    "means = numeric_cols.mean()\n",
    "\n",
    "# Appliquer la moyenne calculée uniquement aux colonnes numériques\n",
    "train_data[numeric_cols.columns] = numeric_cols.fillna(means)\n",
    "\n",
    "# Suppression des colonnes non nécessaires et préparation des données pour l'encodage\n",
    "features = train_data.drop(columns=['salary_in_usd', 'salary', 'salary_currency'])\n",
    "\n",
    "# Encodage des variables catégorielles\n",
    "features = pd.get_dummies(features)\n",
    "\n",
    "# Séparation des caractéristiques et de la cible\n",
    "X = features\n",
    "y = train_data['salary_in_usd']"
   ]
  },
  {
   "cell_type": "code",
   "execution_count": 8,
   "metadata": {},
   "outputs": [],
   "source": [
    "# Séparer les données en ensembles d'entraînement et de test pour le développement du modèle\n",
    "X_train, X_test, y_train, y_test = train_test_split(X, y, test_size=0.2, random_state=42)"
   ]
  },
  {
   "cell_type": "code",
   "execution_count": 9,
   "metadata": {},
   "outputs": [
    {
     "name": "stdout",
     "output_type": "stream",
     "text": [
      "RMSE:  955989193265.6637\n"
     ]
    }
   ],
   "source": [
    "# Entraînement du modèle\n",
    "model = LinearRegression()\n",
    "model.fit(X_train, y_train)\n",
    "\n",
    "# Prédiction et évaluation sur l'ensemble de test\n",
    "y_pred = model.predict(X_test)\n",
    "rmse = np.sqrt(mean_squared_error(y_test, y_pred))\n",
    "print(\"RMSE: \", rmse)"
   ]
  }
 ],
 "metadata": {
  "kernelspec": {
   "display_name": "Python 3",
   "language": "python",
   "name": "python3"
  },
  "language_info": {
   "codemirror_mode": {
    "name": "ipython",
    "version": 3
   },
   "file_extension": ".py",
   "mimetype": "text/x-python",
   "name": "python",
   "nbconvert_exporter": "python",
   "pygments_lexer": "ipython3",
   "version": "3.9.13"
  }
 },
 "nbformat": 4,
 "nbformat_minor": 2
}
